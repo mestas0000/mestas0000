{
 "cells": [
  {
   "cell_type": "code",
   "execution_count": 9,
   "metadata": {},
   "outputs": [
    {
     "name": "stdout",
     "output_type": "stream",
     "text": [
      "xi =\n",
      "\n",
      "   0   2   5   8\n",
      "\n",
      "yi =\n",
      "\n",
      "   1.7200   1.6800   1.5400   1.3800\n",
      "\n"
     ]
    }
   ],
   "source": [
    "xi=[0,2,5,8]\n",
    "yi=[1.72,1.68,1.54,1.38]"
   ]
  },
  {
   "cell_type": "code",
   "execution_count": 15,
   "metadata": {},
   "outputs": [],
   "source": [
    "function p = lagrange(P,Q)\n",
    "    n=length(P);\n",
    "    L=poly(P(2:n));\n",
    "    p=L*Q(1)/polyval(L,P(1));\n",
    "    for i=2:n\n",
    "        L=poly([P(1:i-1),P(i+1:n)]);\n",
    "        p=p+L*Q(i)/polyval(L,P(i));\n",
    "    end\n",
    "end"
   ]
  },
  {
   "cell_type": "code",
   "execution_count": 13,
   "metadata": {},
   "outputs": [
    {
     "name": "stdout",
     "output_type": "stream",
     "text": [
      "PP =\n",
      "\n",
      "   5.2778e-04  -9.0278e-03  -4.0556e-03   1.7200e+00\n",
      "\n"
     ]
    }
   ],
   "source": [
    "PP=lagrange(xi,yi)"
   ]
  },
  {
   "cell_type": "code",
   "execution_count": 14,
   "metadata": {},
   "outputs": [
    {
     "name": "stdout",
     "output_type": "stream",
     "text": [
      "ans = 1.5931\n"
     ]
    }
   ],
   "source": [
    "polyval(PP,4)"
   ]
  },
  {
   "cell_type": "code",
   "execution_count": 3,
   "metadata": {},
   "outputs": [],
   "source": [
    "#Lagrange interpolation\n",
    "function L=lagrange2(xi,yi)\n",
    "    n=length(xi);\n",
    "    J=[]; k=0; z=1;\n",
    "    L=zeros(1,n);\n",
    "    for i=1:n\n",
    "        for j=1:n\n",
    "            if xi(i)~=xi(j)\n",
    "                k=k+1;\n",
    "                J(k)=xi(j);\n",
    "            end\n",
    "        end\n",
    "        L=L+poly(J(z:z+n-2))*yi(i)/polyval(poly(J(z:z+n-2)),xi(i));\n",
    "        z=z+(n-1);\n",
    "    end\n",
    "end"
   ]
  },
  {
   "cell_type": "code",
   "execution_count": 64,
   "metadata": {},
   "outputs": [],
   "source": [
    "P=lagrange2(xi,yi);"
   ]
  },
  {
   "cell_type": "code",
   "execution_count": 57,
   "metadata": {},
   "outputs": [],
   "source": [
    "#diferencias divididas.\n",
    "function d=difdiv(x,y)\n",
    "    n=length(x);\n",
    "    d=zeros(1,n);\n",
    "    d=y;\n",
    "    T=1;\n",
    "    for j=2:n\n",
    "        DD=d;\n",
    "        for i=j:n\n",
    "            d(i)=(DD(i)-DD(i-1))/(x(i)-x(i-T));\n",
    "        end\n",
    "        T=T+1;\n",
    "    end\n",
    "end\n",
    "#interpolation newton.\n",
    "DIF=difdiv(xi,yi);\n",
    "function N =Newton (DIF,x,y)\n",
    "    n=length(x);\n",
    "    N=zeros(1,n);\n",
    "    N=[zeros(1,n-1),DIF(1)];\n",
    "    for i=2:n\n",
    "        N=N+[zeros(1,n-i),DIF(i)*poly(x(1:i-1))];\n",
    "    end\n",
    "end"
   ]
  },
  {
   "cell_type": "code",
   "execution_count": null,
   "metadata": {},
   "outputs": [],
   "source": [
    "Newton(DIF,xi,yi);"
   ]
  },
  {
   "cell_type": "code",
   "execution_count": 6,
   "metadata": {},
   "outputs": [],
   "source": [
    "function hr =hallar(t,x)\n",
    "    tx=[t-3,t-2,t,t+2,t+3];\n",
    "    ty=[3,-1,-2,2,1];\n",
    "    ha=lagrange2(tx,ty);\n",
    "    hr=polyval(ha,x);\n",
    "\n",
    "end"
   ]
  },
  {
   "cell_type": "code",
   "execution_count": 7,
   "metadata": {},
   "outputs": [
    {
     "name": "stdout",
     "output_type": "stream",
     "text": [
      "ans = 0.4821\n"
     ]
    }
   ],
   "source": [
    "(hallar(sqrt(3),-1/2)+hallar(pi,sqrt(2)))/(hallar(1/2,pi/4)+hallar(-1,-3/2))"
   ]
  },
  {
   "cell_type": "code",
   "execution_count": 1,
   "metadata": {},
   "outputs": [
    {
     "name": "stdout",
     "output_type": "stream",
     "text": [
      "x1 =\n",
      "\n",
      "   0   2   5   8\n",
      "\n",
      "y1 =\n",
      "\n",
      "   1.7200   1.6800   1.5400   1.3800\n",
      "\n"
     ]
    }
   ],
   "source": [
    "x1=[0,2,5,8]\n",
    "y1=[1.72,1.68,1.54,1.38]\n",
    "#q=[0,0,-1,0,4]"
   ]
  },
  {
   "cell_type": "code",
   "execution_count": 4,
   "metadata": {},
   "outputs": [
    {
     "name": "stdout",
     "output_type": "stream",
     "text": [
      "P =\n",
      "\n",
      "   5.2778e-04  -9.0278e-03  -4.0556e-03   1.7200e+00\n",
      "\n"
     ]
    }
   ],
   "source": [
    "P=lagrange2(x1,y1)"
   ]
  },
  {
   "cell_type": "code",
   "execution_count": 48,
   "metadata": {},
   "outputs": [
    {
     "name": "stdout",
     "output_type": "stream",
     "text": [
      "ans =\n",
      "\n",
      "   0.5373   2.3154   1.5669  -2.4659\n",
      "\n"
     ]
    }
   ],
   "source": [
    "polyval(P,[pi,-1.5,3.5,pi/2]) "
   ]
  },
  {
   "cell_type": "code",
   "execution_count": 51,
   "metadata": {},
   "outputs": [
    {
     "name": "stdout",
     "output_type": "stream",
     "text": [
      "I =\n",
      "\n",
      "  -0.028770   0.143254   1.645437  -1.931349  -5.404762\n",
      "\n"
     ]
    }
   ],
   "source": [
    "I=P-q"
   ]
  },
  {
   "cell_type": "code",
   "execution_count": 52,
   "metadata": {},
   "outputs": [
    {
     "name": "stdout",
     "output_type": "stream",
     "text": [
      "ans =\n",
      "\n",
      "   9.8840\n",
      "  -5.8397\n",
      "   2.3312\n",
      "  -1.3962\n",
      "\n"
     ]
    }
   ],
   "source": [
    "roots(I)"
   ]
  }
 ],
 "metadata": {
  "kernelspec": {
   "display_name": "Octave",
   "language": "octave",
   "name": "octave"
  },
  "language_info": {
   "file_extension": ".m",
   "help_links": [
    {
     "text": "GNU Octave",
     "url": "https://www.gnu.org/software/octave/support.html"
    },
    {
     "text": "Octave Kernel",
     "url": "https://github.com/Calysto/octave_kernel"
    },
    {
     "text": "MetaKernel Magics",
     "url": "https://metakernel.readthedocs.io/en/latest/source/README.html"
    }
   ],
   "mimetype": "text/x-octave",
   "name": "octave",
   "version": "7.1.0"
  },
  "orig_nbformat": 4,
  "vscode": {
   "interpreter": {
    "hash": "d2255471d4d39d4da4a3bfcd63e0796633ce78f7d724af7ec9cd3bb352f4f5ca"
   }
  }
 },
 "nbformat": 4,
 "nbformat_minor": 2
}
