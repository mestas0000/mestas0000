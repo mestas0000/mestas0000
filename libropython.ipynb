{
 "cells": [
  {
   "cell_type": "code",
   "execution_count": 287,
   "metadata": {},
   "outputs": [],
   "source": [
    "def Nprimo(n):\n",
    "    cont=1\n",
    "    for i in range(1,n):\n",
    "        if n%i==0:\n",
    "            cont+=1\n",
    "    if cont==2:\n",
    "        Psigue=1\n",
    "        while Psigue!=2:\n",
    "            n+=1\n",
    "            Psigue1=1\n",
    "            for j in range(1,n):\n",
    "                if n%j==0:\n",
    "                    Psigue1+=1       \n",
    "            Psigue=Psigue1\n",
    "        return n\n",
    "    else:\n",
    "        return \"nulo\""
   ]
  },
  {
   "cell_type": "code",
   "execution_count": 289,
   "metadata": {},
   "outputs": [
    {
     "data": {
      "text/plain": [
       "23"
      ]
     },
     "execution_count": 289,
     "metadata": {},
     "output_type": "execute_result"
    }
   ],
   "source": [
    "Nprimo(19)"
   ]
  },
  {
   "cell_type": "code",
   "execution_count": 51,
   "metadata": {},
   "outputs": [],
   "source": [
    "#crea una funcion para saber si es numero primo o no.\n",
    "def esPrimo(n):\n",
    "    if n==1:\n",
    "        return False\n",
    "    for i in range(2,n):\n",
    "        if n%i==0:\n",
    "            return False\n",
    "    return True"
   ]
  },
  {
   "cell_type": "code",
   "execution_count": null,
   "metadata": {},
   "outputs": [],
   "source": [
    "esPrimo(8)"
   ]
  },
  {
   "cell_type": "code",
   "execution_count": 345,
   "metadata": {},
   "outputs": [],
   "source": [
    "#crea una funcion para saber si es numero capicua\n",
    "def esCapicua(n):\n",
    "    try:\n",
    "        if n==int(n):\n",
    "            if str(n)==str(n)[::-1]:\n",
    "                return True\n",
    "            else:\n",
    "                return False  \n",
    "        else:\n",
    "            return None   \n",
    "    except:\n",
    "        return None     \n"
   ]
  },
  {
   "cell_type": "code",
   "execution_count": 349,
   "metadata": {},
   "outputs": [],
   "source": [
    "esCapicua(\"hola\")"
   ]
  },
  {
   "cell_type": "code",
   "execution_count": 343,
   "metadata": {},
   "outputs": [],
   "source": [
    "#crea una funcion para validad si es entero.\n",
    "def esEntero(n):\n",
    "    try:\n",
    "        if n==int(n):\n",
    "            if str(n)==str(n)[::-1]:\n",
    "                return True\n",
    "            else:\n",
    "                return False  \n",
    "        else:\n",
    "            return None   \n",
    "    except:\n",
    "        return None"
   ]
  },
  {
   "cell_type": "code",
   "execution_count": 344,
   "metadata": {},
   "outputs": [],
   "source": [
    "esEntero('hola')"
   ]
  },
  {
   "cell_type": "code",
   "execution_count": 310,
   "metadata": {},
   "outputs": [],
   "source": [
    "def Factorial(numero):\n",
    "    '''\n",
    "    Esta función devuelve el factorial del número pasado como parámetro.\n",
    "    En caso de que no sea de tipo entero y/o sea menor que 1, debe retornar nulo.\n",
    "    Recibe un argumento:\n",
    "        numero: Será el número con el que se calcule el factorial\n",
    "    Ej:\n",
    "        Factorial(4) debe retornar 24\n",
    "        Factorial(-2) debe retornar nulo\n",
    "    '''\n",
    "    #Tu código aca:\n",
    "    A=1\n",
    "    if numero < 0:\n",
    "        return None\n",
    "    else:\n",
    "        for i in range(numero):\n",
    "            A=A*(numero-i)\n",
    "    return A"
   ]
  },
  {
   "cell_type": "code",
   "execution_count": 313,
   "metadata": {},
   "outputs": [
    {
     "data": {
      "text/plain": [
       "720"
      ]
     },
     "execution_count": 313,
     "metadata": {},
     "output_type": "execute_result"
    }
   ],
   "source": [
    "Factorial(6)"
   ]
  },
  {
   "cell_type": "code",
   "execution_count": 403,
   "metadata": {},
   "outputs": [
    {
     "data": {
      "text/plain": [
       "str"
      ]
     },
     "execution_count": 403,
     "metadata": {},
     "output_type": "execute_result"
    }
   ],
   "source": [
    "lista=[1,2,['a','b'],[10]]\n",
    "lista=\"\".join(map(str, lista))\n",
    "type(lista)"
   ]
  },
  {
   "cell_type": "code",
   "execution_count": 404,
   "metadata": {},
   "outputs": [
    {
     "name": "stdout",
     "output_type": "stream",
     "text": [
      "12['a', 'b'][10]\n"
     ]
    }
   ],
   "source": [
    "print(lista)"
   ]
  },
  {
   "cell_type": "code",
   "execution_count": 406,
   "metadata": {},
   "outputs": [
    {
     "name": "stdout",
     "output_type": "stream",
     "text": [
      "12a b10\n",
      "12ab10\n"
     ]
    }
   ],
   "source": [
    "characters = \"[]',\"\"\"\n",
    "\n",
    "string = ''.join( x for x in lista if x not in characters)\n",
    "print(string)\n",
    "string=string.replace(\" \",\"\")\n",
    "print(string)"
   ]
  },
  {
   "cell_type": "code",
   "execution_count": null,
   "metadata": {},
   "outputs": [],
   "source": []
  }
 ],
 "metadata": {
  "kernelspec": {
   "display_name": "Python 3.10.5 64-bit (windows store)",
   "language": "python",
   "name": "python3"
  },
  "language_info": {
   "codemirror_mode": {
    "name": "ipython",
    "version": 3
   },
   "file_extension": ".py",
   "mimetype": "text/x-python",
   "name": "python",
   "nbconvert_exporter": "python",
   "pygments_lexer": "ipython3",
   "version": "3.10.5"
  },
  "orig_nbformat": 4,
  "vscode": {
   "interpreter": {
    "hash": "5c073f595cd50fd1bb1005fbf7ddb00af09bff72e60307ae6ca8f629c96f1871"
   }
  }
 },
 "nbformat": 4,
 "nbformat_minor": 2
}
