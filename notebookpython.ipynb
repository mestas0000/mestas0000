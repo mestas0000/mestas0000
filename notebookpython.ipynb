{
  "cells": [
    {
      "cell_type": "markdown",
      "metadata": {
        "id": "SEoEcMtn46VP"
      },
      "source": [
        "hola mundo que tal"
      ]
    },
    {
      "cell_type": "code",
      "execution_count": 4,
      "metadata": {
        "id": "-_hIugVL46VX",
        "outputId": "e92397db-c819-4a75-b41a-b0677b1ab572",
        "colab": {
          "base_uri": "https://localhost:8080/"
        }
      },
      "outputs": [
        {
          "output_type": "execute_result",
          "data": {
            "text/plain": [
              "11"
            ]
          },
          "metadata": {},
          "execution_count": 4
        }
      ],
      "source": [
        "5+6"
      ]
    },
    {
      "cell_type": "code",
      "source": [
        "f=5"
      ],
      "metadata": {
        "id": "2vh6PnyA5RSH"
      },
      "execution_count": 6,
      "outputs": []
    }
  ],
  "metadata": {
    "language_info": {
      "name": "python"
    },
    "orig_nbformat": 4,
    "colab": {
      "name": "notebookpython.ipynb",
      "provenance": []
    },
    "kernelspec": {
      "name": "python3",
      "display_name": "Python 3"
    },
    "gpuClass": "standard"
  },
  "nbformat": 4,
  "nbformat_minor": 0
}