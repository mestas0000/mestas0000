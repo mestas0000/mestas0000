{
 "cells": [
  {
   "cell_type": "markdown",
   "metadata": {},
   "source": [
    "hola mundo que tal"
   ]
  },
  {
   "cell_type": "code",
   "execution_count": null,
   "metadata": {},
   "outputs": [],
   "source": [
    "5+6"
   ]
  }
 ],
 "metadata": {
  "language_info": {
   "name": "python"
  },
  "orig_nbformat": 4
 },
 "nbformat": 4,
 "nbformat_minor": 2
}
